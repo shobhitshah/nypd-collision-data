{
 "cells": [
  {
   "cell_type": "code",
   "execution_count": 2,
   "metadata": {},
   "outputs": [],
   "source": [
    "import pandas as pd\n",
    "import matplotlib"
   ]
  },
  {
   "cell_type": "code",
   "execution_count": 3,
   "metadata": {},
   "outputs": [
    {
     "data": {
      "text/html": [
       "<div>\n",
       "<style scoped>\n",
       "    .dataframe tbody tr th:only-of-type {\n",
       "        vertical-align: middle;\n",
       "    }\n",
       "\n",
       "    .dataframe tbody tr th {\n",
       "        vertical-align: top;\n",
       "    }\n",
       "\n",
       "    .dataframe thead th {\n",
       "        text-align: right;\n",
       "    }\n",
       "</style>\n",
       "<table border=\"1\" class=\"dataframe\">\n",
       "  <thead>\n",
       "    <tr style=\"text-align: right;\">\n",
       "      <th></th>\n",
       "      <th>:@computed_region_92fq_4b7q</th>\n",
       "      <th>:@computed_region_efsh_h5xi</th>\n",
       "      <th>:@computed_region_f5dn_yrer</th>\n",
       "      <th>:@computed_region_sbqj_enih</th>\n",
       "      <th>:@computed_region_yeji_bk3q</th>\n",
       "      <th>borough</th>\n",
       "      <th>contributing_factor_vehicle_1</th>\n",
       "      <th>contributing_factor_vehicle_2</th>\n",
       "      <th>contributing_factor_vehicle_3</th>\n",
       "      <th>contributing_factor_vehicle_4</th>\n",
       "      <th>...</th>\n",
       "      <th>off_street_name</th>\n",
       "      <th>on_street_name</th>\n",
       "      <th>time</th>\n",
       "      <th>unique_key</th>\n",
       "      <th>vehicle_type_code1</th>\n",
       "      <th>vehicle_type_code2</th>\n",
       "      <th>vehicle_type_code_3</th>\n",
       "      <th>vehicle_type_code_4</th>\n",
       "      <th>vehicle_type_code_5</th>\n",
       "      <th>zip_code</th>\n",
       "    </tr>\n",
       "  </thead>\n",
       "  <tbody>\n",
       "    <tr>\n",
       "      <th>0</th>\n",
       "      <td>46.0</td>\n",
       "      <td>24669.0</td>\n",
       "      <td>41.0</td>\n",
       "      <td>71.0</td>\n",
       "      <td>3.0</td>\n",
       "      <td>NaN</td>\n",
       "      <td>Driver Inattention/Distraction</td>\n",
       "      <td>Unspecified</td>\n",
       "      <td>NaN</td>\n",
       "      <td>NaN</td>\n",
       "      <td>...</td>\n",
       "      <td>NaN</td>\n",
       "      <td>NORTH CONDUIT AVENUE</td>\n",
       "      <td>15:06</td>\n",
       "      <td>4075995</td>\n",
       "      <td>Sedan</td>\n",
       "      <td>Refrigerated Van</td>\n",
       "      <td>NaN</td>\n",
       "      <td>NaN</td>\n",
       "      <td>NaN</td>\n",
       "      <td>NaN</td>\n",
       "    </tr>\n",
       "    <tr>\n",
       "      <th>1</th>\n",
       "      <td>10.0</td>\n",
       "      <td>12074.0</td>\n",
       "      <td>12.0</td>\n",
       "      <td>6.0</td>\n",
       "      <td>4.0</td>\n",
       "      <td>MANHATTAN</td>\n",
       "      <td>Passing or Lane Usage Improper</td>\n",
       "      <td>Passing or Lane Usage Improper</td>\n",
       "      <td>NaN</td>\n",
       "      <td>NaN</td>\n",
       "      <td>...</td>\n",
       "      <td>NaN</td>\n",
       "      <td>NaN</td>\n",
       "      <td>0:00</td>\n",
       "      <td>4076372</td>\n",
       "      <td>Station Wagon/Sport Utility Vehicle</td>\n",
       "      <td>Taxi</td>\n",
       "      <td>NaN</td>\n",
       "      <td>NaN</td>\n",
       "      <td>NaN</td>\n",
       "      <td>10011.0</td>\n",
       "    </tr>\n",
       "    <tr>\n",
       "      <th>2</th>\n",
       "      <td>20.0</td>\n",
       "      <td>14193.0</td>\n",
       "      <td>22.0</td>\n",
       "      <td>67.0</td>\n",
       "      <td>3.0</td>\n",
       "      <td>NaN</td>\n",
       "      <td>Following Too Closely</td>\n",
       "      <td>Unspecified</td>\n",
       "      <td>NaN</td>\n",
       "      <td>NaN</td>\n",
       "      <td>...</td>\n",
       "      <td>NaN</td>\n",
       "      <td>46 AVENUE</td>\n",
       "      <td>12:00</td>\n",
       "      <td>4075229</td>\n",
       "      <td>Station Wagon/Sport Utility Vehicle</td>\n",
       "      <td>Van</td>\n",
       "      <td>NaN</td>\n",
       "      <td>NaN</td>\n",
       "      <td>NaN</td>\n",
       "      <td>NaN</td>\n",
       "    </tr>\n",
       "    <tr>\n",
       "      <th>3</th>\n",
       "      <td>39.0</td>\n",
       "      <td>13090.0</td>\n",
       "      <td>47.0</td>\n",
       "      <td>21.0</td>\n",
       "      <td>4.0</td>\n",
       "      <td>MANHATTAN</td>\n",
       "      <td>Driver Inattention/Distraction</td>\n",
       "      <td>Unspecified</td>\n",
       "      <td>NaN</td>\n",
       "      <td>NaN</td>\n",
       "      <td>...</td>\n",
       "      <td>NaN</td>\n",
       "      <td>NaN</td>\n",
       "      <td>11:06</td>\n",
       "      <td>4075858</td>\n",
       "      <td>Sedan</td>\n",
       "      <td>Station Wagon/Sport Utility Vehicle</td>\n",
       "      <td>NaN</td>\n",
       "      <td>NaN</td>\n",
       "      <td>NaN</td>\n",
       "      <td>10032.0</td>\n",
       "    </tr>\n",
       "    <tr>\n",
       "      <th>4</th>\n",
       "      <td>NaN</td>\n",
       "      <td>NaN</td>\n",
       "      <td>NaN</td>\n",
       "      <td>NaN</td>\n",
       "      <td>NaN</td>\n",
       "      <td>MANHATTAN</td>\n",
       "      <td>Failure to Keep Right</td>\n",
       "      <td>Other Vehicular</td>\n",
       "      <td>NaN</td>\n",
       "      <td>NaN</td>\n",
       "      <td>...</td>\n",
       "      <td>8 AVENUE</td>\n",
       "      <td>W 56 STREET</td>\n",
       "      <td>10:36</td>\n",
       "      <td>4075131</td>\n",
       "      <td>Station Wagon/Sport Utility Vehicle</td>\n",
       "      <td>Station Wagon/Sport Utility Vehicle</td>\n",
       "      <td>NaN</td>\n",
       "      <td>NaN</td>\n",
       "      <td>NaN</td>\n",
       "      <td>10019.0</td>\n",
       "    </tr>\n",
       "  </tbody>\n",
       "</table>\n",
       "<p>5 rows × 38 columns</p>\n",
       "</div>"
      ],
      "text/plain": [
       "   :@computed_region_92fq_4b7q  :@computed_region_efsh_h5xi  \\\n",
       "0                         46.0                      24669.0   \n",
       "1                         10.0                      12074.0   \n",
       "2                         20.0                      14193.0   \n",
       "3                         39.0                      13090.0   \n",
       "4                          NaN                          NaN   \n",
       "\n",
       "   :@computed_region_f5dn_yrer  :@computed_region_sbqj_enih  \\\n",
       "0                         41.0                         71.0   \n",
       "1                         12.0                          6.0   \n",
       "2                         22.0                         67.0   \n",
       "3                         47.0                         21.0   \n",
       "4                          NaN                          NaN   \n",
       "\n",
       "   :@computed_region_yeji_bk3q    borough   contributing_factor_vehicle_1  \\\n",
       "0                          3.0        NaN  Driver Inattention/Distraction   \n",
       "1                          4.0  MANHATTAN  Passing or Lane Usage Improper   \n",
       "2                          3.0        NaN           Following Too Closely   \n",
       "3                          4.0  MANHATTAN  Driver Inattention/Distraction   \n",
       "4                          NaN  MANHATTAN           Failure to Keep Right   \n",
       "\n",
       "    contributing_factor_vehicle_2 contributing_factor_vehicle_3  \\\n",
       "0                     Unspecified                           NaN   \n",
       "1  Passing or Lane Usage Improper                           NaN   \n",
       "2                     Unspecified                           NaN   \n",
       "3                     Unspecified                           NaN   \n",
       "4                 Other Vehicular                           NaN   \n",
       "\n",
       "  contributing_factor_vehicle_4  ... off_street_name  \\\n",
       "0                           NaN  ...             NaN   \n",
       "1                           NaN  ...             NaN   \n",
       "2                           NaN  ...             NaN   \n",
       "3                           NaN  ...             NaN   \n",
       "4                           NaN  ...        8 AVENUE   \n",
       "\n",
       "                     on_street_name   time  unique_key  \\\n",
       "0  NORTH CONDUIT AVENUE              15:06     4075995   \n",
       "1                               NaN   0:00     4076372   \n",
       "2  46 AVENUE                         12:00     4075229   \n",
       "3                               NaN  11:06     4075858   \n",
       "4  W 56 STREET                       10:36     4075131   \n",
       "\n",
       "                    vehicle_type_code1                   vehicle_type_code2  \\\n",
       "0                                Sedan                     Refrigerated Van   \n",
       "1  Station Wagon/Sport Utility Vehicle                                 Taxi   \n",
       "2  Station Wagon/Sport Utility Vehicle                                  Van   \n",
       "3                                Sedan  Station Wagon/Sport Utility Vehicle   \n",
       "4  Station Wagon/Sport Utility Vehicle  Station Wagon/Sport Utility Vehicle   \n",
       "\n",
       "   vehicle_type_code_3  vehicle_type_code_4  vehicle_type_code_5  zip_code  \n",
       "0                  NaN                  NaN                  NaN       NaN  \n",
       "1                  NaN                  NaN                  NaN   10011.0  \n",
       "2                  NaN                  NaN                  NaN       NaN  \n",
       "3                  NaN                  NaN                  NaN   10032.0  \n",
       "4                  NaN                  NaN                  NaN   10019.0  \n",
       "\n",
       "[5 rows x 38 columns]"
      ]
     },
     "execution_count": 3,
     "metadata": {},
     "output_type": "execute_result"
    }
   ],
   "source": [
    "train = pd.read_csv('http://data.cityofnewyork.us/resource/qiz3-axqb.csv')\n",
    "train.head()"
   ]
  },
  {
   "cell_type": "code",
   "execution_count": 3,
   "metadata": {},
   "outputs": [
    {
     "name": "stderr",
     "output_type": "stream",
     "text": [
      "/Library/Frameworks/Python.framework/Versions/3.7/lib/python3.7/site-packages/IPython/core/interactiveshell.py:3020: DtypeWarning: Columns (3) have mixed types. Specify dtype option on import or set low_memory=False.\n",
      "  interactivity=interactivity, compiler=compiler, result=result)\n"
     ]
    },
    {
     "data": {
      "text/html": [
       "<div>\n",
       "<style scoped>\n",
       "    .dataframe tbody tr th:only-of-type {\n",
       "        vertical-align: middle;\n",
       "    }\n",
       "\n",
       "    .dataframe tbody tr th {\n",
       "        vertical-align: top;\n",
       "    }\n",
       "\n",
       "    .dataframe thead th {\n",
       "        text-align: right;\n",
       "    }\n",
       "</style>\n",
       "<table border=\"1\" class=\"dataframe\">\n",
       "  <thead>\n",
       "    <tr style=\"text-align: right;\">\n",
       "      <th></th>\n",
       "      <th>DATE</th>\n",
       "      <th>TIME</th>\n",
       "      <th>BOROUGH</th>\n",
       "      <th>ZIP CODE</th>\n",
       "      <th>LATITUDE</th>\n",
       "      <th>LONGITUDE</th>\n",
       "      <th>LOCATION</th>\n",
       "      <th>ON STREET NAME</th>\n",
       "      <th>CROSS STREET NAME</th>\n",
       "      <th>OFF STREET NAME</th>\n",
       "      <th>...</th>\n",
       "      <th>CONTRIBUTING FACTOR VEHICLE 2</th>\n",
       "      <th>CONTRIBUTING FACTOR VEHICLE 3</th>\n",
       "      <th>CONTRIBUTING FACTOR VEHICLE 4</th>\n",
       "      <th>CONTRIBUTING FACTOR VEHICLE 5</th>\n",
       "      <th>UNIQUE KEY</th>\n",
       "      <th>VEHICLE TYPE CODE 1</th>\n",
       "      <th>VEHICLE TYPE CODE 2</th>\n",
       "      <th>VEHICLE TYPE CODE 3</th>\n",
       "      <th>VEHICLE TYPE CODE 4</th>\n",
       "      <th>VEHICLE TYPE CODE 5</th>\n",
       "    </tr>\n",
       "  </thead>\n",
       "  <tbody>\n",
       "    <tr>\n",
       "      <th>0</th>\n",
       "      <td>2018-11-16T00:00:00</td>\n",
       "      <td>0:10</td>\n",
       "      <td>MANHATTAN</td>\n",
       "      <td>10010</td>\n",
       "      <td>40.742275</td>\n",
       "      <td>-73.988914</td>\n",
       "      <td>{'longitude': '-73.988914', 'latitude': '40.74...</td>\n",
       "      <td>5 AVENUE</td>\n",
       "      <td>BROADWAY</td>\n",
       "      <td>NaN</td>\n",
       "      <td>...</td>\n",
       "      <td>Unspecified</td>\n",
       "      <td>NaN</td>\n",
       "      <td>NaN</td>\n",
       "      <td>NaN</td>\n",
       "      <td>4021880</td>\n",
       "      <td>Station Wagon/Sport Utility Vehicle</td>\n",
       "      <td>Station Wagon/Sport Utility Vehicle</td>\n",
       "      <td>NaN</td>\n",
       "      <td>NaN</td>\n",
       "      <td>NaN</td>\n",
       "    </tr>\n",
       "    <tr>\n",
       "      <th>1</th>\n",
       "      <td>2018-11-16T00:00:00</td>\n",
       "      <td>0:40</td>\n",
       "      <td>NaN</td>\n",
       "      <td>NaN</td>\n",
       "      <td>40.762720</td>\n",
       "      <td>-73.728170</td>\n",
       "      <td>{'longitude': '-73.72817', 'latitude': '40.762...</td>\n",
       "      <td>LONG ISLAND EXPRESSWAY</td>\n",
       "      <td>NaN</td>\n",
       "      <td>NaN</td>\n",
       "      <td>...</td>\n",
       "      <td>Pavement Slippery</td>\n",
       "      <td>NaN</td>\n",
       "      <td>NaN</td>\n",
       "      <td>NaN</td>\n",
       "      <td>4021727</td>\n",
       "      <td>Sedan</td>\n",
       "      <td>Pick-up Truck</td>\n",
       "      <td>NaN</td>\n",
       "      <td>NaN</td>\n",
       "      <td>NaN</td>\n",
       "    </tr>\n",
       "    <tr>\n",
       "      <th>2</th>\n",
       "      <td>2018-11-16T00:00:00</td>\n",
       "      <td>0:45</td>\n",
       "      <td>BROOKLYN</td>\n",
       "      <td>11211</td>\n",
       "      <td>40.710197</td>\n",
       "      <td>-73.958430</td>\n",
       "      <td>{'longitude': '-73.95843', 'latitude': '40.710...</td>\n",
       "      <td>BORINQUEN PLACE</td>\n",
       "      <td>HAVEMEYER STREET</td>\n",
       "      <td>NaN</td>\n",
       "      <td>...</td>\n",
       "      <td>Driver Inattention/Distraction</td>\n",
       "      <td>NaN</td>\n",
       "      <td>NaN</td>\n",
       "      <td>NaN</td>\n",
       "      <td>4021791</td>\n",
       "      <td>Taxi</td>\n",
       "      <td>Taxi</td>\n",
       "      <td>NaN</td>\n",
       "      <td>NaN</td>\n",
       "      <td>NaN</td>\n",
       "    </tr>\n",
       "    <tr>\n",
       "      <th>3</th>\n",
       "      <td>2018-11-16T00:00:00</td>\n",
       "      <td>1:00</td>\n",
       "      <td>BRONX</td>\n",
       "      <td>10454</td>\n",
       "      <td>40.803555</td>\n",
       "      <td>-73.911840</td>\n",
       "      <td>{'longitude': '-73.91184', 'latitude': '40.803...</td>\n",
       "      <td>EAST 137 STREET</td>\n",
       "      <td>WILLOW AVENUE</td>\n",
       "      <td>NaN</td>\n",
       "      <td>...</td>\n",
       "      <td>Unspecified</td>\n",
       "      <td>NaN</td>\n",
       "      <td>NaN</td>\n",
       "      <td>NaN</td>\n",
       "      <td>4021878</td>\n",
       "      <td>Garbage or Refuse</td>\n",
       "      <td>Station Wagon/Sport Utility Vehicle</td>\n",
       "      <td>NaN</td>\n",
       "      <td>NaN</td>\n",
       "      <td>NaN</td>\n",
       "    </tr>\n",
       "    <tr>\n",
       "      <th>4</th>\n",
       "      <td>2018-11-16T00:00:00</td>\n",
       "      <td>1:00</td>\n",
       "      <td>BROOKLYN</td>\n",
       "      <td>11221</td>\n",
       "      <td>40.694923</td>\n",
       "      <td>-73.915565</td>\n",
       "      <td>{'longitude': '-73.915565', 'latitude': '40.69...</td>\n",
       "      <td>WILSON AVENUE</td>\n",
       "      <td>PALMETTO STREET</td>\n",
       "      <td>NaN</td>\n",
       "      <td>...</td>\n",
       "      <td>Unspecified</td>\n",
       "      <td>NaN</td>\n",
       "      <td>NaN</td>\n",
       "      <td>NaN</td>\n",
       "      <td>4021848</td>\n",
       "      <td>Station Wagon/Sport Utility Vehicle</td>\n",
       "      <td>Station Wagon/Sport Utility Vehicle</td>\n",
       "      <td>NaN</td>\n",
       "      <td>NaN</td>\n",
       "      <td>NaN</td>\n",
       "    </tr>\n",
       "  </tbody>\n",
       "</table>\n",
       "<p>5 rows × 29 columns</p>\n",
       "</div>"
      ],
      "text/plain": [
       "                  DATE  TIME    BOROUGH ZIP CODE   LATITUDE  LONGITUDE  \\\n",
       "0  2018-11-16T00:00:00  0:10  MANHATTAN    10010  40.742275 -73.988914   \n",
       "1  2018-11-16T00:00:00  0:40        NaN      NaN  40.762720 -73.728170   \n",
       "2  2018-11-16T00:00:00  0:45   BROOKLYN    11211  40.710197 -73.958430   \n",
       "3  2018-11-16T00:00:00  1:00      BRONX    10454  40.803555 -73.911840   \n",
       "4  2018-11-16T00:00:00  1:00   BROOKLYN    11221  40.694923 -73.915565   \n",
       "\n",
       "                                            LOCATION  \\\n",
       "0  {'longitude': '-73.988914', 'latitude': '40.74...   \n",
       "1  {'longitude': '-73.72817', 'latitude': '40.762...   \n",
       "2  {'longitude': '-73.95843', 'latitude': '40.710...   \n",
       "3  {'longitude': '-73.91184', 'latitude': '40.803...   \n",
       "4  {'longitude': '-73.915565', 'latitude': '40.69...   \n",
       "\n",
       "                     ON STREET NAME CROSS STREET NAME OFF STREET NAME  ...  \\\n",
       "0  5 AVENUE                                  BROADWAY             NaN  ...   \n",
       "1  LONG ISLAND EXPRESSWAY                         NaN             NaN  ...   \n",
       "2  BORINQUEN PLACE                   HAVEMEYER STREET             NaN  ...   \n",
       "3  EAST 137 STREET                      WILLOW AVENUE             NaN  ...   \n",
       "4  WILSON AVENUE                      PALMETTO STREET             NaN  ...   \n",
       "\n",
       "    CONTRIBUTING FACTOR VEHICLE 2  CONTRIBUTING FACTOR VEHICLE 3  \\\n",
       "0                     Unspecified                            NaN   \n",
       "1               Pavement Slippery                            NaN   \n",
       "2  Driver Inattention/Distraction                            NaN   \n",
       "3                     Unspecified                            NaN   \n",
       "4                     Unspecified                            NaN   \n",
       "\n",
       "   CONTRIBUTING FACTOR VEHICLE 4  CONTRIBUTING FACTOR VEHICLE 5  UNIQUE KEY  \\\n",
       "0                            NaN                            NaN     4021880   \n",
       "1                            NaN                            NaN     4021727   \n",
       "2                            NaN                            NaN     4021791   \n",
       "3                            NaN                            NaN     4021878   \n",
       "4                            NaN                            NaN     4021848   \n",
       "\n",
       "                   VEHICLE TYPE CODE 1                  VEHICLE TYPE CODE 2  \\\n",
       "0  Station Wagon/Sport Utility Vehicle  Station Wagon/Sport Utility Vehicle   \n",
       "1                                Sedan                        Pick-up Truck   \n",
       "2                                 Taxi                                 Taxi   \n",
       "3                    Garbage or Refuse  Station Wagon/Sport Utility Vehicle   \n",
       "4  Station Wagon/Sport Utility Vehicle  Station Wagon/Sport Utility Vehicle   \n",
       "\n",
       "   VEHICLE TYPE CODE 3 VEHICLE TYPE CODE 4 VEHICLE TYPE CODE 5  \n",
       "0                  NaN                 NaN                 NaN  \n",
       "1                  NaN                 NaN                 NaN  \n",
       "2                  NaN                 NaN                 NaN  \n",
       "3                  NaN                 NaN                 NaN  \n",
       "4                  NaN                 NaN                 NaN  \n",
       "\n",
       "[5 rows x 29 columns]"
      ]
     },
     "execution_count": 3,
     "metadata": {},
     "output_type": "execute_result"
    }
   ],
   "source": [
    "#train = pd.read_csv('~/Downloads/nypd-motor-vehicle-collisions.csv')\n",
    "#train.head()"
   ]
  },
  {
   "cell_type": "code",
   "execution_count": 4,
   "metadata": {},
   "outputs": [
    {
     "data": {
      "text/plain": [
       "[':@computed_region_92fq_4b7q',\n",
       " ':@computed_region_efsh_h5xi',\n",
       " ':@computed_region_f5dn_yrer',\n",
       " ':@computed_region_sbqj_enih',\n",
       " ':@computed_region_yeji_bk3q',\n",
       " 'borough',\n",
       " 'contributing_factor_vehicle_1',\n",
       " 'contributing_factor_vehicle_2',\n",
       " 'contributing_factor_vehicle_3',\n",
       " 'contributing_factor_vehicle_4',\n",
       " 'contributing_factor_vehicle_5',\n",
       " 'cross_street_name',\n",
       " 'date',\n",
       " 'latitude',\n",
       " 'location',\n",
       " 'location_address',\n",
       " 'location_city',\n",
       " 'location_state',\n",
       " 'location_zip',\n",
       " 'longitude',\n",
       " 'number_of_cyclist_injured',\n",
       " 'number_of_cyclist_killed',\n",
       " 'number_of_motorist_injured',\n",
       " 'number_of_motorist_killed',\n",
       " 'number_of_pedestrians_injured',\n",
       " 'number_of_pedestrians_killed',\n",
       " 'number_of_persons_injured',\n",
       " 'number_of_persons_killed',\n",
       " 'off_street_name',\n",
       " 'on_street_name',\n",
       " 'time',\n",
       " 'unique_key',\n",
       " 'vehicle_type_code1',\n",
       " 'vehicle_type_code2',\n",
       " 'vehicle_type_code_3',\n",
       " 'vehicle_type_code_4',\n",
       " 'vehicle_type_code_5',\n",
       " 'zip_code']"
      ]
     },
     "execution_count": 4,
     "metadata": {},
     "output_type": "execute_result"
    }
   ],
   "source": [
    "train.columns.to_list()"
   ]
  },
  {
   "cell_type": "code",
   "execution_count": 7,
   "metadata": {},
   "outputs": [
    {
     "data": {
      "text/plain": [
       "<matplotlib.axes._subplots.AxesSubplot at 0x1120a2be0>"
      ]
     },
     "execution_count": 7,
     "metadata": {},
     "output_type": "execute_result"
    },
    {
     "data": {
      "image/png": "[encoded data removed]",
      "text/plain": [
       "<Figure size 432x288 with 1 Axes>"
      ]
     },
     "metadata": {
      "needs_background": "light"
     },
     "output_type": "display_data"
    }
   ],
   "source": [
    "# train.DATE.value_counts().head().plot.bar()\n",
    "train.date.value_counts().head().plot.line()"
   ]
  },
  {
   "cell_type": "code",
   "execution_count": 8,
   "metadata": {},
   "outputs": [
    {
     "data": {
      "text/plain": [
       "pandas.core.series.Series"
      ]
     },
     "execution_count": 8,
     "metadata": {},
     "output_type": "execute_result"
    }
   ],
   "source": [
    "type(train.date)\n",
    "train.date = pd.to_datetime(train.date, infer_datetime_format=True)\n",
    "type(train.date)"
   ]
  },
  {
   "cell_type": "code",
   "execution_count": 9,
   "metadata": {},
   "outputs": [
    {
     "data": {
      "text/html": [
       "<div>\n",
       "<style scoped>\n",
       "    .dataframe tbody tr th:only-of-type {\n",
       "        vertical-align: middle;\n",
       "    }\n",
       "\n",
       "    .dataframe tbody tr th {\n",
       "        vertical-align: top;\n",
       "    }\n",
       "\n",
       "    .dataframe thead th {\n",
       "        text-align: right;\n",
       "    }\n",
       "</style>\n",
       "<table border=\"1\" class=\"dataframe\">\n",
       "  <thead>\n",
       "    <tr style=\"text-align: right;\">\n",
       "      <th></th>\n",
       "      <th>:@computed_region_92fq_4b7q</th>\n",
       "      <th>:@computed_region_efsh_h5xi</th>\n",
       "      <th>:@computed_region_f5dn_yrer</th>\n",
       "      <th>:@computed_region_sbqj_enih</th>\n",
       "      <th>:@computed_region_yeji_bk3q</th>\n",
       "      <th>latitude</th>\n",
       "      <th>location_address</th>\n",
       "      <th>location_city</th>\n",
       "      <th>location_state</th>\n",
       "      <th>location_zip</th>\n",
       "      <th>...</th>\n",
       "      <th>number_of_cyclist_injured</th>\n",
       "      <th>number_of_cyclist_killed</th>\n",
       "      <th>number_of_motorist_injured</th>\n",
       "      <th>number_of_motorist_killed</th>\n",
       "      <th>number_of_pedestrians_injured</th>\n",
       "      <th>number_of_pedestrians_killed</th>\n",
       "      <th>number_of_persons_injured</th>\n",
       "      <th>number_of_persons_killed</th>\n",
       "      <th>unique_key</th>\n",
       "      <th>zip_code</th>\n",
       "    </tr>\n",
       "    <tr>\n",
       "      <th>date</th>\n",
       "      <th></th>\n",
       "      <th></th>\n",
       "      <th></th>\n",
       "      <th></th>\n",
       "      <th></th>\n",
       "      <th></th>\n",
       "      <th></th>\n",
       "      <th></th>\n",
       "      <th></th>\n",
       "      <th></th>\n",
       "      <th></th>\n",
       "      <th></th>\n",
       "      <th></th>\n",
       "      <th></th>\n",
       "      <th></th>\n",
       "      <th></th>\n",
       "      <th></th>\n",
       "      <th></th>\n",
       "      <th></th>\n",
       "      <th></th>\n",
       "      <th></th>\n",
       "    </tr>\n",
       "  </thead>\n",
       "  <tbody>\n",
       "    <tr>\n",
       "      <th>2019-02-28</th>\n",
       "      <td>24295.0</td>\n",
       "      <td>13540980.0</td>\n",
       "      <td>33458.0</td>\n",
       "      <td>40201.0</td>\n",
       "      <td>2895.0</td>\n",
       "      <td>37266.174209</td>\n",
       "      <td>0.0</td>\n",
       "      <td>0.0</td>\n",
       "      <td>0.0</td>\n",
       "      <td>0.0</td>\n",
       "      <td>...</td>\n",
       "      <td>14</td>\n",
       "      <td>0</td>\n",
       "      <td>196</td>\n",
       "      <td>0</td>\n",
       "      <td>55</td>\n",
       "      <td>1</td>\n",
       "      <td>265</td>\n",
       "      <td>1</td>\n",
       "      <td>4075361127</td>\n",
       "      <td>6734382.0</td>\n",
       "    </tr>\n",
       "  </tbody>\n",
       "</table>\n",
       "<p>1 rows × 21 columns</p>\n",
       "</div>"
      ],
      "text/plain": [
       "            :@computed_region_92fq_4b7q  :@computed_region_efsh_h5xi  \\\n",
       "date                                                                   \n",
       "2019-02-28                      24295.0                   13540980.0   \n",
       "\n",
       "            :@computed_region_f5dn_yrer  :@computed_region_sbqj_enih  \\\n",
       "date                                                                   \n",
       "2019-02-28                      33458.0                      40201.0   \n",
       "\n",
       "            :@computed_region_yeji_bk3q      latitude  location_address  \\\n",
       "date                                                                      \n",
       "2019-02-28                       2895.0  37266.174209               0.0   \n",
       "\n",
       "            location_city  location_state  location_zip  ...  \\\n",
       "date                                                     ...   \n",
       "2019-02-28            0.0             0.0           0.0  ...   \n",
       "\n",
       "            number_of_cyclist_injured  number_of_cyclist_killed  \\\n",
       "date                                                              \n",
       "2019-02-28                         14                         0   \n",
       "\n",
       "            number_of_motorist_injured  number_of_motorist_killed  \\\n",
       "date                                                                \n",
       "2019-02-28                         196                          0   \n",
       "\n",
       "            number_of_pedestrians_injured  number_of_pedestrians_killed  \\\n",
       "date                                                                      \n",
       "2019-02-28                             55                             1   \n",
       "\n",
       "            number_of_persons_injured  number_of_persons_killed  unique_key  \\\n",
       "date                                                                          \n",
       "2019-02-28                        265                         1  4075361127   \n",
       "\n",
       "             zip_code  \n",
       "date                   \n",
       "2019-02-28  6734382.0  \n",
       "\n",
       "[1 rows x 21 columns]"
      ]
     },
     "execution_count": 9,
     "metadata": {},
     "output_type": "execute_result"
    }
   ],
   "source": [
    "from pandas import Grouper\n",
    "train.groupby(Grouper(key='date', freq='M')).sum().head()"
   ]
  },
  {
   "cell_type": "code",
   "execution_count": 11,
   "metadata": {},
   "outputs": [
    {
     "data": {
      "text/plain": [
       "<matplotlib.axes._subplots.AxesSubplot at 0x11225b588>"
      ]
     },
     "execution_count": 11,
     "metadata": {},
     "output_type": "execute_result"
    },
    {
     "data": {
      "image/png": "[encoded data removed]",
      "text/plain": [
       "<Figure size 432x288 with 1 Axes>"
      ]
     },
     "metadata": {
      "needs_background": "light"
     },
     "output_type": "display_data"
    }
   ],
   "source": [
    "train.groupby(Grouper(key='date', freq='D')).sum().plot.line(y=['number_of_persons_injured', \n",
    "                                                                'number_of_persons_killed'],\n",
    "                                                            secondary_y=1)"
   ]
  },
  {
   "cell_type": "code",
   "execution_count": 12,
   "metadata": {},
   "outputs": [
    {
     "data": {
      "text/plain": [
       "False"
      ]
     },
     "execution_count": 12,
     "metadata": {},
     "output_type": "execute_result"
    }
   ],
   "source": [
    "train['unique_key'].describe()\n",
    "train['unique_key'].isnull().any()"
   ]
  },
  {
   "cell_type": "code",
   "execution_count": 15,
   "metadata": {},
   "outputs": [
    {
     "data": {
      "text/plain": [
       "<matplotlib.axes._subplots.AxesSubplot at 0x112411978>"
      ]
     },
     "execution_count": 15,
     "metadata": {},
     "output_type": "execute_result"
    },
    {
     "data": {
      "image/png": "[encoded data removed]",
      "text/plain": [
       "<Figure size 432x288 with 1 Axes>"
      ]
     },
     "metadata": {
      "needs_background": "light"
     },
     "output_type": "display_data"
    }
   ],
   "source": [
    "train['contributing_factor_vehicle_1'].value_counts().head().plot.line(rot=90)"
   ]
  },
  {
   "cell_type": "code",
   "execution_count": 17,
   "metadata": {},
   "outputs": [
    {
     "data": {
      "text/plain": [
       "<matplotlib.axes._subplots.AxesSubplot at 0x1125850b8>"
      ]
     },
     "execution_count": 17,
     "metadata": {},
     "output_type": "execute_result"
    },
    {
     "data": {
      "image/png": "[encoded data removed]",
      "text/plain": [
       "<Figure size 432x288 with 1 Axes>"
      ]
     },
     "metadata": {
      "needs_background": "light"
     },
     "output_type": "display_data"
    }
   ],
   "source": [
    "train['vehicle_type_code1'].value_counts().head().plot.line(rot=90)"
   ]
  },
  {
   "cell_type": "code",
   "execution_count": 18,
   "metadata": {},
   "outputs": [
    {
     "data": {
      "text/plain": [
       "<matplotlib.axes._subplots.AxesSubplot at 0x112669438>"
      ]
     },
     "execution_count": 18,
     "metadata": {},
     "output_type": "execute_result"
    },
    {
     "data": {
      "image/png": "[encoded data removed]",
      "text/plain": [
       "<Figure size 432x288 with 1 Axes>"
      ]
     },
     "metadata": {
      "needs_background": "light"
     },
     "output_type": "display_data"
    }
   ],
   "source": [
    "train.time = pd.to_datetime(train.time, infer_datetime_format=True)\n",
    "\n",
    "train.groupby(Grouper(key='time', freq='H')).sum().plot.line(y=['number_of_persons_injured', \n",
    "                                                                'number_of_persons_killed'],\n",
    "                                                            secondary_y=1)"
   ]
  },
  {
   "cell_type": "code",
   "execution_count": 19,
   "metadata": {},
   "outputs": [
    {
     "data": {
      "text/plain": [
       "<matplotlib.axes._subplots.AxesSubplot at 0x11276c8d0>"
      ]
     },
     "execution_count": 19,
     "metadata": {},
     "output_type": "execute_result"
    },
    {
     "data": {
      "image/png": "[encoded data removed]",
      "text/plain": [
       "<Figure size 432x288 with 1 Axes>"
      ]
     },
     "metadata": {
      "needs_background": "light"
     },
     "output_type": "display_data"
    }
   ],
   "source": [
    "train.groupby(Grouper(key='time', freq='H')).sum().plot.line(y='number_of_persons_killed',\n",
    "                                                            )"
   ]
  },
  {
   "cell_type": "code",
   "execution_count": 20,
   "metadata": {},
   "outputs": [
    {
     "data": {
      "text/html": [
       "<div>\n",
       "<style scoped>\n",
       "    .dataframe tbody tr th:only-of-type {\n",
       "        vertical-align: middle;\n",
       "    }\n",
       "\n",
       "    .dataframe tbody tr th {\n",
       "        vertical-align: top;\n",
       "    }\n",
       "\n",
       "    .dataframe thead th {\n",
       "        text-align: right;\n",
       "    }\n",
       "</style>\n",
       "<table border=\"1\" class=\"dataframe\">\n",
       "  <thead>\n",
       "    <tr style=\"text-align: right;\">\n",
       "      <th></th>\n",
       "      <th>:@computed_region_92fq_4b7q</th>\n",
       "      <th>:@computed_region_efsh_h5xi</th>\n",
       "      <th>:@computed_region_f5dn_yrer</th>\n",
       "      <th>:@computed_region_sbqj_enih</th>\n",
       "      <th>:@computed_region_yeji_bk3q</th>\n",
       "      <th>latitude</th>\n",
       "      <th>location_address</th>\n",
       "      <th>location_city</th>\n",
       "      <th>location_state</th>\n",
       "      <th>location_zip</th>\n",
       "      <th>...</th>\n",
       "      <th>number_of_cyclist_injured</th>\n",
       "      <th>number_of_cyclist_killed</th>\n",
       "      <th>number_of_motorist_injured</th>\n",
       "      <th>number_of_motorist_killed</th>\n",
       "      <th>number_of_pedestrians_injured</th>\n",
       "      <th>number_of_pedestrians_killed</th>\n",
       "      <th>number_of_persons_injured</th>\n",
       "      <th>number_of_persons_killed</th>\n",
       "      <th>unique_key</th>\n",
       "      <th>zip_code</th>\n",
       "    </tr>\n",
       "    <tr>\n",
       "      <th>borough</th>\n",
       "      <th></th>\n",
       "      <th></th>\n",
       "      <th></th>\n",
       "      <th></th>\n",
       "      <th></th>\n",
       "      <th></th>\n",
       "      <th></th>\n",
       "      <th></th>\n",
       "      <th></th>\n",
       "      <th></th>\n",
       "      <th></th>\n",
       "      <th></th>\n",
       "      <th></th>\n",
       "      <th></th>\n",
       "      <th></th>\n",
       "      <th></th>\n",
       "      <th></th>\n",
       "      <th></th>\n",
       "      <th></th>\n",
       "      <th></th>\n",
       "      <th></th>\n",
       "    </tr>\n",
       "  </thead>\n",
       "  <tbody>\n",
       "    <tr>\n",
       "      <th>BRONX</th>\n",
       "      <td>3045.0</td>\n",
       "      <td>1206147.0</td>\n",
       "      <td>4154.0</td>\n",
       "      <td>3088.0</td>\n",
       "      <td>534.0</td>\n",
       "      <td>4371.183682</td>\n",
       "      <td>0.0</td>\n",
       "      <td>0.0</td>\n",
       "      <td>0.0</td>\n",
       "      <td>0.0</td>\n",
       "      <td>...</td>\n",
       "      <td>0</td>\n",
       "      <td>0</td>\n",
       "      <td>27</td>\n",
       "      <td>0</td>\n",
       "      <td>5</td>\n",
       "      <td>0</td>\n",
       "      <td>32</td>\n",
       "      <td>0</td>\n",
       "      <td>452360300</td>\n",
       "      <td>1161304.0</td>\n",
       "    </tr>\n",
       "    <tr>\n",
       "      <th>BROOKLYN</th>\n",
       "      <td>4887.0</td>\n",
       "      <td>2816982.0</td>\n",
       "      <td>5483.0</td>\n",
       "      <td>7918.0</td>\n",
       "      <td>352.0</td>\n",
       "      <td>7155.487467</td>\n",
       "      <td>0.0</td>\n",
       "      <td>0.0</td>\n",
       "      <td>0.0</td>\n",
       "      <td>0.0</td>\n",
       "      <td>...</td>\n",
       "      <td>4</td>\n",
       "      <td>0</td>\n",
       "      <td>40</td>\n",
       "      <td>0</td>\n",
       "      <td>13</td>\n",
       "      <td>0</td>\n",
       "      <td>57</td>\n",
       "      <td>0</td>\n",
       "      <td>737663576</td>\n",
       "      <td>2030615.0</td>\n",
       "    </tr>\n",
       "    <tr>\n",
       "      <th>MANHATTAN</th>\n",
       "      <td>3573.0</td>\n",
       "      <td>1420769.0</td>\n",
       "      <td>4088.0</td>\n",
       "      <td>1071.0</td>\n",
       "      <td>468.0</td>\n",
       "      <td>4769.092912</td>\n",
       "      <td>0.0</td>\n",
       "      <td>0.0</td>\n",
       "      <td>0.0</td>\n",
       "      <td>0.0</td>\n",
       "      <td>...</td>\n",
       "      <td>3</td>\n",
       "      <td>0</td>\n",
       "      <td>8</td>\n",
       "      <td>0</td>\n",
       "      <td>9</td>\n",
       "      <td>0</td>\n",
       "      <td>20</td>\n",
       "      <td>0</td>\n",
       "      <td>497211072</td>\n",
       "      <td>1222855.0</td>\n",
       "    </tr>\n",
       "    <tr>\n",
       "      <th>QUEENS</th>\n",
       "      <td>4733.0</td>\n",
       "      <td>3366510.0</td>\n",
       "      <td>8448.0</td>\n",
       "      <td>11911.0</td>\n",
       "      <td>546.0</td>\n",
       "      <td>7410.008227</td>\n",
       "      <td>0.0</td>\n",
       "      <td>0.0</td>\n",
       "      <td>0.0</td>\n",
       "      <td>0.0</td>\n",
       "      <td>...</td>\n",
       "      <td>1</td>\n",
       "      <td>0</td>\n",
       "      <td>34</td>\n",
       "      <td>0</td>\n",
       "      <td>19</td>\n",
       "      <td>1</td>\n",
       "      <td>54</td>\n",
       "      <td>1</td>\n",
       "      <td>749838525</td>\n",
       "      <td>2092871.0</td>\n",
       "    </tr>\n",
       "    <tr>\n",
       "      <th>STATEN ISLAND</th>\n",
       "      <td>271.0</td>\n",
       "      <td>234937.0</td>\n",
       "      <td>388.0</td>\n",
       "      <td>1659.0</td>\n",
       "      <td>22.0</td>\n",
       "      <td>892.933741</td>\n",
       "      <td>0.0</td>\n",
       "      <td>0.0</td>\n",
       "      <td>0.0</td>\n",
       "      <td>0.0</td>\n",
       "      <td>...</td>\n",
       "      <td>0</td>\n",
       "      <td>0</td>\n",
       "      <td>10</td>\n",
       "      <td>0</td>\n",
       "      <td>1</td>\n",
       "      <td>0</td>\n",
       "      <td>11</td>\n",
       "      <td>0</td>\n",
       "      <td>89661428</td>\n",
       "      <td>226737.0</td>\n",
       "    </tr>\n",
       "  </tbody>\n",
       "</table>\n",
       "<p>5 rows × 21 columns</p>\n",
       "</div>"
      ],
      "text/plain": [
       "               :@computed_region_92fq_4b7q  :@computed_region_efsh_h5xi  \\\n",
       "borough                                                                   \n",
       "BRONX                               3045.0                    1206147.0   \n",
       "BROOKLYN                            4887.0                    2816982.0   \n",
       "MANHATTAN                           3573.0                    1420769.0   \n",
       "QUEENS                              4733.0                    3366510.0   \n",
       "STATEN ISLAND                        271.0                     234937.0   \n",
       "\n",
       "               :@computed_region_f5dn_yrer  :@computed_region_sbqj_enih  \\\n",
       "borough                                                                   \n",
       "BRONX                               4154.0                       3088.0   \n",
       "BROOKLYN                            5483.0                       7918.0   \n",
       "MANHATTAN                           4088.0                       1071.0   \n",
       "QUEENS                              8448.0                      11911.0   \n",
       "STATEN ISLAND                        388.0                       1659.0   \n",
       "\n",
       "               :@computed_region_yeji_bk3q     latitude  location_address  \\\n",
       "borough                                                                     \n",
       "BRONX                                534.0  4371.183682               0.0   \n",
       "BROOKLYN                             352.0  7155.487467               0.0   \n",
       "MANHATTAN                            468.0  4769.092912               0.0   \n",
       "QUEENS                               546.0  7410.008227               0.0   \n",
       "STATEN ISLAND                         22.0   892.933741               0.0   \n",
       "\n",
       "               location_city  location_state  location_zip  ...  \\\n",
       "borough                                                     ...   \n",
       "BRONX                    0.0             0.0           0.0  ...   \n",
       "BROOKLYN                 0.0             0.0           0.0  ...   \n",
       "MANHATTAN                0.0             0.0           0.0  ...   \n",
       "QUEENS                   0.0             0.0           0.0  ...   \n",
       "STATEN ISLAND            0.0             0.0           0.0  ...   \n",
       "\n",
       "               number_of_cyclist_injured  number_of_cyclist_killed  \\\n",
       "borough                                                              \n",
       "BRONX                                  0                         0   \n",
       "BROOKLYN                               4                         0   \n",
       "MANHATTAN                              3                         0   \n",
       "QUEENS                                 1                         0   \n",
       "STATEN ISLAND                          0                         0   \n",
       "\n",
       "               number_of_motorist_injured  number_of_motorist_killed  \\\n",
       "borough                                                                \n",
       "BRONX                                  27                          0   \n",
       "BROOKLYN                               40                          0   \n",
       "MANHATTAN                               8                          0   \n",
       "QUEENS                                 34                          0   \n",
       "STATEN ISLAND                          10                          0   \n",
       "\n",
       "               number_of_pedestrians_injured  number_of_pedestrians_killed  \\\n",
       "borough                                                                      \n",
       "BRONX                                      5                             0   \n",
       "BROOKLYN                                  13                             0   \n",
       "MANHATTAN                                  9                             0   \n",
       "QUEENS                                    19                             1   \n",
       "STATEN ISLAND                              1                             0   \n",
       "\n",
       "               number_of_persons_injured  number_of_persons_killed  \\\n",
       "borough                                                              \n",
       "BRONX                                 32                         0   \n",
       "BROOKLYN                              57                         0   \n",
       "MANHATTAN                             20                         0   \n",
       "QUEENS                                54                         1   \n",
       "STATEN ISLAND                         11                         0   \n",
       "\n",
       "               unique_key   zip_code  \n",
       "borough                               \n",
       "BRONX           452360300  1161304.0  \n",
       "BROOKLYN        737663576  2030615.0  \n",
       "MANHATTAN       497211072  1222855.0  \n",
       "QUEENS          749838525  2092871.0  \n",
       "STATEN ISLAND    89661428   226737.0  \n",
       "\n",
       "[5 rows x 21 columns]"
      ]
     },
     "execution_count": 20,
     "metadata": {},
     "output_type": "execute_result"
    }
   ],
   "source": [
    "train.groupby('borough').sum()"
   ]
  },
  {
   "cell_type": "code",
   "execution_count": 21,
   "metadata": {},
   "outputs": [
    {
     "data": {
      "text/plain": [
       "<matplotlib.axes._subplots.AxesSubplot at 0x1127b49e8>"
      ]
     },
     "execution_count": 21,
     "metadata": {},
     "output_type": "execute_result"
    },
    {
     "data": {
      "image/png": "[encoded data removed]",
      "text/plain": [
       "<Figure size 432x288 with 1 Axes>"
      ]
     },
     "metadata": {
      "needs_background": "light"
     },
     "output_type": "display_data"
    }
   ],
   "source": [
    "train.groupby('borough').sum().plot.line(y='number_of_persons_injured')"
   ]
  },
  {
   "cell_type": "code",
   "execution_count": 22,
   "metadata": {},
   "outputs": [
    {
     "data": {
      "text/plain": [
       "<matplotlib.axes._subplots.AxesSubplot at 0x11290c748>"
      ]
     },
     "execution_count": 22,
     "metadata": {},
     "output_type": "execute_result"
    },
    {
     "data": {
      "image/png": "[encoded data removed]",
      "text/plain": [
       "<Figure size 432x288 with 1 Axes>"
      ]
     },
     "metadata": {
      "needs_background": "light"
     },
     "output_type": "display_data"
    }
   ],
   "source": [
    "train.groupby('borough').sum().plot.line(y='number_of_persons_injured')"
   ]
  },
  {
   "cell_type": "code",
   "execution_count": null,
   "metadata": {},
   "outputs": [],
   "source": []
  }
 ],
 "metadata": {
  "kernelspec": {
   "display_name": "Python 3",
   "language": "python",
   "name": "python3"
  },
  "language_info": {
   "codemirror_mode": {
    "name": "ipython",
    "version": 3
   },
   "file_extension": ".py",
   "mimetype": "text/x-python",
   "name": "python",
   "nbconvert_exporter": "python",
   "pygments_lexer": "ipython3",
   "version": "3.7.2"
  }
 },
 "nbformat": 4,
 "nbformat_minor": 2
}
